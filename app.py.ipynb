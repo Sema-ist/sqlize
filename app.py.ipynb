{
 "cells": [
  {
   "cell_type": "markdown",
   "metadata": {},
   "source": [
    "Step 4 - Climate App\n",
    "\n",
    "Now that you have completed your initial analysis, design a Flask api based on the queries that you have just developed.\n",
    "\n",
    "* Use FLASK to create your routes.\n",
    "\n",
    "### Routes\n",
    "\n",
    "* `/api/v1.0/precipitation`\n",
    "\n",
    "  * Query for the dates and temperature observations from the last year.\n",
    "\n",
    "  * Convert the query results to a Dictionary using `date` as the key and `tobs` as the value.\n",
    "\n",
    "  * Return the json representation of your dictionary.\n",
    "\n",
    "* `/api/v1.0/stations`\n",
    "\n",
    "  * Return a json list of stations from the dataset.\n",
    "\n",
    "* `/api/v1.0/tobs`\n",
    "\n",
    "  * Return a json list of Temperature Observations (tobs) for the previous year\n",
    "\n",
    "* `/api/v1.0/<start>` and `/api/v1.0/<start>/<end>`\n",
    "\n",
    "  * Return a json list of the minimum temperature, the average temperature, and the max temperature for a given start or start-end range.\n",
    "\n",
    "  * When given the start only, calculate `TMIN`, `TAVG`, and `TMAX` for all dates greater than and equal to the start date.\n",
    "\n",
    "  * When given the start and the end date, calculate the `TMIN`, `TAVG`, and `TMAX` for dates between the start and end date inclusive.\n",
    "\n",
    "## Hints\n",
    "\n",
    "* You will need to join the station and measurement tables for some of the analysis queries.\n",
    "\n",
    "* Use Flask `jsonify` to convert your api data into a valid json response object.\n",
    "\n",
    "## Copyright\n",
    "\n",
    "Coding Boot Camp © 2017. All Rights Reserved.\n"
   ]
  },
  {
   "cell_type": "code",
   "execution_count": 8,
   "metadata": {
    "collapsed": true,
    "scrolled": true
   },
   "outputs": [],
   "source": [
    "import datetime as dt\n",
    "import numpy as np\n",
    "import pandas as pd\n",
    "import sqlalchemy\n",
    "from sqlalchemy.ext.automap import automap_base\n",
    "from sqlalchemy.orm import Session\n",
    "from sqlalchemy import create_engine, func\n",
    "\n",
    "from flask import Flask, jsonify\n",
    "\n",
    "# Use SQLAlchemy automap_base() to reflect your tables into classes\n",
    "engine = create_engine(\"sqlite:///hawaii.sqlite\")\n",
    "conn = engine.connect()\n",
    "\n",
    "# reflect an existing database into a new model\n",
    "Base = automap_base()\n",
    "# reflect the tables\n",
    "Base.prepare(engine, reflect=True)\n",
    "\n",
    "# Save reference to the table\n",
    "Measurement = Base.classes.measurement\n",
    "\n",
    "Station = Base.classes.station\n",
    "\n",
    "# Create our session (link) from Python to the DB\n",
    "#session = Session(engine)\n",
    "\n",
    "cursor = connection.execute('select * from bar')\n",
    "\n",
    "\n",
    "#################################################\n",
    "# Flask Setup\n",
    "#################################################\n",
    "app = Flask(__name__)\n",
    "\n",
    "\n",
    "\n",
    "\n"
   ]
  },
  {
   "cell_type": "code",
   "execution_count": null,
   "metadata": {
    "collapsed": true
   },
   "outputs": [],
   "source": [
    "\"\"\"Return dates and temperature observations from the last year.\"\"\"\n",
    "\n",
    "year_ago = dt.date.today() - dt.timedelta(days =365)\n",
    "\n",
    "prcp = session.query(Measurement.date, Measurement.prcp).\\\n",
    "                              filter(Measurement.date >year_ago).\\\n",
    "                               order_by(Measurement.date.desc()).all()"
   ]
  },
  {
   "cell_type": "code",
   "execution_count": 12,
   "metadata": {
    "collapsed": true
   },
   "outputs": [],
   "source": [
    "qo=session.query(Measurement.date, Measurement.prcp)"
   ]
  },
  {
   "cell_type": "code",
   "execution_count": 13,
   "metadata": {},
   "outputs": [
    {
     "data": {
      "text/plain": [
       "[{'aliased': False,\n",
       "  'entity': sqlalchemy.ext.automap.measurement,\n",
       "  'expr': <sqlalchemy.orm.attributes.InstrumentedAttribute at 0x17911441990>,\n",
       "  'name': 'date',\n",
       "  'type': TEXT()},\n",
       " {'aliased': False,\n",
       "  'entity': sqlalchemy.ext.automap.measurement,\n",
       "  'expr': <sqlalchemy.orm.attributes.InstrumentedAttribute at 0x17911441a40>,\n",
       "  'name': 'prcp',\n",
       "  'type': FLOAT()}]"
      ]
     },
     "execution_count": 13,
     "metadata": {},
     "output_type": "execute_result"
    }
   ],
   "source": [
    "qo.column_descriptions"
   ]
  },
  {
   "cell_type": "code",
   "execution_count": 14,
   "metadata": {
    "collapsed": true
   },
   "outputs": [],
   "source": [
    "query_object = session.query(Measurement.date, Measurement.prcp)"
   ]
  },
  {
   "cell_type": "code",
   "execution_count": 15,
   "metadata": {
    "collapsed": true
   },
   "outputs": [],
   "source": [
    "prcp = query_object.filter(Measurement.date >year_ago).\\\n",
    "                        order_by(Measurement.date.desc()).all()"
   ]
  },
  {
   "cell_type": "code",
   "execution_count": 19,
   "metadata": {},
   "outputs": [
    {
     "data": {
      "text/plain": [
       "['date', 'prcp']"
      ]
     },
     "execution_count": 19,
     "metadata": {},
     "output_type": "execute_result"
    }
   ],
   "source": [
    "[col[\"name\"] for col in query_object.column_descriptions]"
   ]
  },
  {
   "cell_type": "code",
   "execution_count": 20,
   "metadata": {
    "collapsed": true
   },
   "outputs": [],
   "source": [
    "col_names = [col[\"name\"] for col in query_object.column_descriptions]\n"
   ]
  },
  {
   "cell_type": "code",
   "execution_count": 24,
   "metadata": {},
   "outputs": [
    {
     "data": {
      "text/plain": [
       "{'2017-04-26': 0.22,\n",
       " '2017-04-27': 0.11,\n",
       " '2017-04-28': 0.79000000000000004,\n",
       " '2017-04-29': 0.0,\n",
       " '2017-04-30': 0.80000000000000004,\n",
       " '2017-05-01': 0.25,\n",
       " '2017-05-02': 0.0,\n",
       " '2017-05-03': 0.01,\n",
       " '2017-05-04': 0.0,\n",
       " '2017-05-05': 0.10000000000000001,\n",
       " '2017-05-06': 0.0,\n",
       " '2017-05-07': 0.029999999999999999,\n",
       " '2017-05-08': 1.1100000000000001,\n",
       " '2017-05-09': 0.23000000000000001,\n",
       " '2017-05-10': 0.55000000000000004,\n",
       " '2017-05-11': 0.44,\n",
       " '2017-05-12': 0.10000000000000001,\n",
       " '2017-05-13': 0.10000000000000001,\n",
       " '2017-05-14': 1.0,\n",
       " '2017-05-15': 0.59999999999999998,\n",
       " '2017-05-16': 0.29999999999999999,\n",
       " '2017-05-17': 0.059999999999999998,\n",
       " '2017-05-18': 0.0,\n",
       " '2017-05-19': 0.01,\n",
       " '2017-05-20': 0.02,\n",
       " '2017-05-21': 0.0,\n",
       " '2017-05-22': 0.29999999999999999,\n",
       " '2017-05-23': 0.44,\n",
       " '2017-05-24': 2.1699999999999999,\n",
       " '2017-05-25': 0.88,\n",
       " '2017-05-26': 0.0,\n",
       " '2017-05-27': 0.5,\n",
       " '2017-05-28': 0.0,\n",
       " '2017-05-29': 0.40000000000000002,\n",
       " '2017-05-30': 1.1200000000000001,\n",
       " '2017-05-31': 0.25,\n",
       " '2017-06-01': 0.01,\n",
       " '2017-06-02': 0.089999999999999997,\n",
       " '2017-06-03': 0.080000000000000002,\n",
       " '2017-06-04': 0.81999999999999995,\n",
       " '2017-06-05': 0.01,\n",
       " '2017-06-06': 0.0,\n",
       " '2017-06-07': 0.01,\n",
       " '2017-06-08': 0.0,\n",
       " '2017-06-09': 0.02,\n",
       " '2017-06-10': 0.62,\n",
       " '2017-06-11': 0.69999999999999996,\n",
       " '2017-06-12': 0.81000000000000005,\n",
       " '2017-06-13': 0.65000000000000002,\n",
       " '2017-06-14': 0.81000000000000005,\n",
       " '2017-06-15': 1.6899999999999999,\n",
       " '2017-06-16': 0.10000000000000001,\n",
       " '2017-06-17': 0.10000000000000001,\n",
       " '2017-06-18': 0.69999999999999996,\n",
       " '2017-06-19': 0.40000000000000002,\n",
       " '2017-06-20': 0.31,\n",
       " '2017-06-21': 0.29999999999999999,\n",
       " '2017-06-22': 0.28000000000000003,\n",
       " '2017-06-23': 0.5,\n",
       " '2017-06-24': 0.22,\n",
       " '2017-06-25': 0.5,\n",
       " '2017-06-26': 0.02,\n",
       " '2017-06-27': 0.10000000000000001,\n",
       " '2017-06-28': 0.02,\n",
       " '2017-06-29': 0.040000000000000001,\n",
       " '2017-06-30': 0.20000000000000001,\n",
       " '2017-07-01': 0.10000000000000001,\n",
       " '2017-07-02': 0.5,\n",
       " '2017-07-03': 0.40000000000000002,\n",
       " '2017-07-04': 0.0,\n",
       " '2017-07-05': 0.0,\n",
       " '2017-07-06': 0.02,\n",
       " '2017-07-07': 0.29999999999999999,\n",
       " '2017-07-08': 0.02,\n",
       " '2017-07-09': 0.0,\n",
       " '2017-07-10': 0.02,\n",
       " '2017-07-11': 0.0,\n",
       " '2017-07-12': 0.050000000000000003,\n",
       " '2017-07-13': 0.68000000000000005,\n",
       " '2017-07-14': 0.68000000000000005,\n",
       " '2017-07-15': 0.10000000000000001,\n",
       " '2017-07-16': 0.5,\n",
       " '2017-07-17': 0.39000000000000001,\n",
       " '2017-07-18': 2.3999999999999999,\n",
       " '2017-07-19': 0.27000000000000002,\n",
       " '2017-07-20': 0.69999999999999996,\n",
       " '2017-07-21': 0.10000000000000001,\n",
       " '2017-07-22': 4.0,\n",
       " '2017-07-23': 0.80000000000000004,\n",
       " '2017-07-24': 0.83999999999999997,\n",
       " '2017-07-25': 0.29999999999999999,\n",
       " '2017-07-26': 0.29999999999999999,\n",
       " '2017-07-27': 0.0,\n",
       " '2017-07-28': 0.40000000000000002,\n",
       " '2017-07-29': 0.29999999999999999,\n",
       " '2017-07-30': 0.29999999999999999,\n",
       " '2017-07-31': 0.0,\n",
       " '2017-08-01': 0.0,\n",
       " '2017-08-02': 0.25,\n",
       " '2017-08-03': 0.059999999999999998,\n",
       " '2017-08-04': 0.0,\n",
       " '2017-08-05': 0.059999999999999998,\n",
       " '2017-08-06': 0.0,\n",
       " '2017-08-07': 0.050000000000000003,\n",
       " '2017-08-08': 0.34000000000000002,\n",
       " '2017-08-09': 0.14999999999999999,\n",
       " '2017-08-10': 0.070000000000000007,\n",
       " '2017-08-11': 0.0,\n",
       " '2017-08-12': 0.14000000000000001,\n",
       " '2017-08-13': 0.0,\n",
       " '2017-08-14': 0.22,\n",
       " '2017-08-15': 0.41999999999999998,\n",
       " '2017-08-16': 0.41999999999999998,\n",
       " '2017-08-17': 0.13,\n",
       " '2017-08-18': 0.059999999999999998,\n",
       " '2017-08-19': 0.089999999999999997,\n",
       " '2017-08-20': 0.01,\n",
       " '2017-08-21': 0.56000000000000005,\n",
       " '2017-08-22': 0.5,\n",
       " '2017-08-23': 0.45000000000000001}"
      ]
     },
     "execution_count": 24,
     "metadata": {},
     "output_type": "execute_result"
    }
   ],
   "source": [
    "pd.DataFrame(prcp, columns=col_names).set_index('date').to_dict()[\"prcp\"]"
   ]
  },
  {
   "cell_type": "code",
   "execution_count": 50,
   "metadata": {
    "collapsed": true
   },
   "outputs": [],
   "source": [
    "query_object = session.query(Station)"
   ]
  },
  {
   "cell_type": "code",
   "execution_count": 51,
   "metadata": {
    "collapsed": true
   },
   "outputs": [],
   "source": [
    "stations = query_object.all()"
   ]
  },
  {
   "cell_type": "code",
   "execution_count": 52,
   "metadata": {},
   "outputs": [
    {
     "data": {
      "text/plain": [
       "[<sqlalchemy.ext.automap.station at 0x17911467cf8>,\n",
       " <sqlalchemy.ext.automap.station at 0x179115da470>,\n",
       " <sqlalchemy.ext.automap.station at 0x179115da518>,\n",
       " <sqlalchemy.ext.automap.station at 0x179115da978>,\n",
       " <sqlalchemy.ext.automap.station at 0x179115da668>,\n",
       " <sqlalchemy.ext.automap.station at 0x179115da5f8>,\n",
       " <sqlalchemy.ext.automap.station at 0x179115da7f0>,\n",
       " <sqlalchemy.ext.automap.station at 0x179115da6a0>,\n",
       " <sqlalchemy.ext.automap.station at 0x179115dafd0>]"
      ]
     },
     "execution_count": 52,
     "metadata": {},
     "output_type": "execute_result"
    }
   ],
   "source": [
    "stations"
   ]
  },
  {
   "cell_type": "code",
   "execution_count": 29,
   "metadata": {
    "collapsed": true
   },
   "outputs": [],
   "source": [
    "col_names = [col[\"name\"] for col in query_object.column_descriptions]"
   ]
  },
  {
   "cell_type": "code",
   "execution_count": 30,
   "metadata": {
    "collapsed": true
   },
   "outputs": [],
   "source": [
    " all_stations = pd.DataFrame(stations, columns=col_names).to_dict()"
   ]
  },
  {
   "cell_type": "code",
   "execution_count": 36,
   "metadata": {
    "collapsed": true
   },
   "outputs": [],
   "source": [
    "st = stations[0]"
   ]
  },
  {
   "cell_type": "code",
   "execution_count": 37,
   "metadata": {},
   "outputs": [
    {
     "data": {
      "text/plain": [
       "'WAIKIKI 717.2, HI US'"
      ]
     },
     "execution_count": 37,
     "metadata": {},
     "output_type": "execute_result"
    }
   ],
   "source": [
    "st.name"
   ]
  },
  {
   "cell_type": "code",
   "execution_count": 38,
   "metadata": {
    "collapsed": true
   },
   "outputs": [],
   "source": [
    "cursor = conn.execute(\"select * from station\")"
   ]
  },
  {
   "cell_type": "code",
   "execution_count": 39,
   "metadata": {
    "collapsed": true
   },
   "outputs": [],
   "source": [
    "stations = cursor.fetchall()"
   ]
  },
  {
   "cell_type": "code",
   "execution_count": 45,
   "metadata": {},
   "outputs": [
    {
     "data": {
      "text/plain": [
       "<sqlalchemy.orm.attributes.InstrumentedAttribute at 0x179114414c0>"
      ]
     },
     "execution_count": 45,
     "metadata": {},
     "output_type": "execute_result"
    }
   ],
   "source": [
    "Station."
   ]
  },
  {
   "cell_type": "code",
   "execution_count": 44,
   "metadata": {},
   "outputs": [
    {
     "data": {
      "text/plain": [
       "[(1, 'USC00519397', 'WAIKIKI 717.2, HI US', 21.2716, -157.8168, 3.0),\n",
       " (2, 'USC00513117', 'KANEOHE 838.1, HI US', 21.4234, -157.8015, 14.6),\n",
       " (3, 'USC00514830', 'KUALOA RANCH HEADQUARTERS 886.9, HI US', 21.5213, -157.8374, 7.0),\n",
       " (4, 'USC00517948', 'PEARL CITY, HI US', 21.3934, -157.9751, 11.9),\n",
       " (5, 'USC00518838', 'UPPER WAHIAWA 874.3, HI US', 21.4992, -158.0111, 306.6),\n",
       " (6, 'USC00519523', 'WAIMANALO EXPERIMENTAL FARM, HI US', 21.33556, -157.71139, 19.5),\n",
       " (7, 'USC00519281', 'WAIHEE 837.5, HI US', 21.45167, -157.84888999999995, 32.9),\n",
       " (8, 'USC00511918', 'HONOLULU OBSERVATORY 702.2, HI US', 21.3152, -157.9992, 0.9),\n",
       " (9, 'USC00516128', 'MANOA LYON ARBO 785.2, HI US', 21.3331, -157.8025, 152.4)]"
      ]
     },
     "execution_count": 44,
     "metadata": {},
     "output_type": "execute_result"
    }
   ],
   "source": [
    "stations"
   ]
  },
  {
   "cell_type": "code",
   "execution_count": 57,
   "metadata": {
    "collapsed": true
   },
   "outputs": [],
   "source": [
    "query_object = session.query(Station.id, Station.station, Station.name, Station.latitude, Station.longitude)\n",
    "\n",
    "prcp = query_object.all()\n",
    "col_names = [col[\"name\"] for col in query_object.column_descriptions]\n",
    "\n",
    "all_prcp = pd.DataFrame(prcp, columns=col_names)"
   ]
  },
  {
   "cell_type": "code",
   "execution_count": 65,
   "metadata": {},
   "outputs": [
    {
     "data": {
      "text/plain": [
       "[{'id': 1,\n",
       "  'latitude': 21.2716,\n",
       "  'longitude': -157.8168,\n",
       "  'name': 'WAIKIKI 717.2, HI US',\n",
       "  'station': 'USC00519397'},\n",
       " {'id': 2,\n",
       "  'latitude': 21.4234,\n",
       "  'longitude': -157.8015,\n",
       "  'name': 'KANEOHE 838.1, HI US',\n",
       "  'station': 'USC00513117'},\n",
       " {'id': 3,\n",
       "  'latitude': 21.5213,\n",
       "  'longitude': -157.8374,\n",
       "  'name': 'KUALOA RANCH HEADQUARTERS 886.9, HI US',\n",
       "  'station': 'USC00514830'},\n",
       " {'id': 4,\n",
       "  'latitude': 21.3934,\n",
       "  'longitude': -157.9751,\n",
       "  'name': 'PEARL CITY, HI US',\n",
       "  'station': 'USC00517948'},\n",
       " {'id': 5,\n",
       "  'latitude': 21.4992,\n",
       "  'longitude': -158.0111,\n",
       "  'name': 'UPPER WAHIAWA 874.3, HI US',\n",
       "  'station': 'USC00518838'},\n",
       " {'id': 6,\n",
       "  'latitude': 21.33556,\n",
       "  'longitude': -157.71139,\n",
       "  'name': 'WAIMANALO EXPERIMENTAL FARM, HI US',\n",
       "  'station': 'USC00519523'},\n",
       " {'id': 7,\n",
       "  'latitude': 21.45167,\n",
       "  'longitude': -157.84888999999995,\n",
       "  'name': 'WAIHEE 837.5, HI US',\n",
       "  'station': 'USC00519281'},\n",
       " {'id': 8,\n",
       "  'latitude': 21.3152,\n",
       "  'longitude': -157.9992,\n",
       "  'name': 'HONOLULU OBSERVATORY 702.2, HI US',\n",
       "  'station': 'USC00511918'},\n",
       " {'id': 9,\n",
       "  'latitude': 21.3331,\n",
       "  'longitude': -157.8025,\n",
       "  'name': 'MANOA LYON ARBO 785.2, HI US',\n",
       "  'station': 'USC00516128'}]"
      ]
     },
     "execution_count": 65,
     "metadata": {},
     "output_type": "execute_result"
    }
   ],
   "source": [
    "[row.to_dict() for i,row in all_prcp.iterrows()]"
   ]
  },
  {
   "cell_type": "code",
   "execution_count": null,
   "metadata": {
    "collapsed": true
   },
   "outputs": [],
   "source": [
    "#Return a json list of Temperature Observations (tobs) for the previous year\n",
    "\n",
    "@app.route(\"/api/v1.0/tobs\")\n",
    "    def temp_monthly\n",
    "    prev_year = dt.date.today() - dt.timedelta(days=365)\n",
    "    \n",
    "    results = session.query(Measurement.tobs).\\\n",
    "        filter(Measurement.station == 'USC00519289').\\\n",
    "        filter(Measurement.date >= prev_year).all()\n",
    "        \n",
    "    temps = list(np.ravel(results))\n",
    "    \n",
    "    return jsonify(temps)"
   ]
  },
  {
   "cell_type": "code",
   "execution_count": null,
   "metadata": {
    "collapsed": true
   },
   "outputs": [],
   "source": [
    "# Return a json list of the minimum temperature, the average temperature, and the max temperature for a given start or start-end range.\n",
    "\n",
    "# When given the start only, calculate TMIN, TAVG, and TMAX for all dates greater than and equal to the start date.\n",
    "\n",
    "# When given the start and the end date, calculate the TMIN, TAVG, and TMAX for dates between the start and end date inclusive.\n",
    "\n",
    "@app.route(\"/api/v1.0/<start> and /api/v1.0/<start>\")\n",
    "@app.route(\"/api/v1.0/<start> and /api/v1.0/<start>/<end>\")\n",
    "def starts(start=None, end=None):\n",
    "    \n",
    "    sel = (func.min(Measurement.tobs), func.avg(Measurement.tobs), func.max(Measurement.tobs))\n",
    "    \n",
    "    if not end:\n",
    "        results = session.query(*sel).\\\n",
    "            filter(Measurement.date >= start).all()\n",
    "            temps = list(np.ravel(results))\n",
    "            return jsonify(temps)\n",
    "        \n",
    "        results = session.query(*sel).\\\n",
    "            filter(Measurement.date >= start).\\\n",
    "            filter(Measurement.date <= end).all()\n",
    "            temps = list(np.ravel(results))\n",
    "            return jsonify(temps)\n",
    "        \n",
    "    if __name__ == '__main__':\n",
    "        app.run()\n",
    "            "
   ]
  }
 ],
 "metadata": {
  "kernelspec": {
   "display_name": "Python [conda env:PythonData]",
   "language": "python",
   "name": "conda-env-PythonData-py"
  },
  "language_info": {
   "codemirror_mode": {
    "name": "ipython",
    "version": 3
   },
   "file_extension": ".py",
   "mimetype": "text/x-python",
   "name": "python",
   "nbconvert_exporter": "python",
   "pygments_lexer": "ipython3",
   "version": "3.6.3"
  }
 },
 "nbformat": 4,
 "nbformat_minor": 2
}
